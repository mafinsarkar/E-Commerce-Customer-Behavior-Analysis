{
 "cells": [
  {
   "cell_type": "code",
   "execution_count": 1,
   "id": "77914ee7-c032-4c97-8bfe-0910e5f9f181",
   "metadata": {},
   "outputs": [],
   "source": [
    "import pandas as pd\n",
    "import numpy as np\n",
    "import matplotlib.pyplot as plt\n",
    "import seaborn as sns\n",
    "import datetime as dt\n",
    "from sklearn.linear_model import LinearRegression\n",
    "from sklearn.ensemble import RandomForestRegressor\n",
    "from sklearn.model_selection import train_test_split\n",
    "from sklearn.metrics import mean_absolute_error, r2_score\n",
    "# Set an option to display all rows/columns without shortening them\n",
    "pd.set_option('display.max_rows', None)"
   ]
  },
  {
   "cell_type": "code",
   "execution_count": 2,
   "id": "2eb140e5-f569-4151-a718-475e9deab9af",
   "metadata": {},
   "outputs": [],
   "source": [
    "df = pd.read_csv('Order_Transaction_Master.csv')"
   ]
  },
  {
   "cell_type": "code",
   "execution_count": 3,
   "id": "f4fce768-7bc7-48b0-8f3b-fe0d0574edc2",
   "metadata": {},
   "outputs": [],
   "source": [
    "#copy the orignal data(df) to a copy data(df_1)\n",
    "df_1 = df.copy()"
   ]
  },
  {
   "cell_type": "code",
   "execution_count": 4,
   "id": "894a77d3-3f91-44e1-8f78-1392f883f0c5",
   "metadata": {},
   "outputs": [
    {
     "data": {
      "text/html": [
       "<div>\n",
       "<style scoped>\n",
       "    .dataframe tbody tr th:only-of-type {\n",
       "        vertical-align: middle;\n",
       "    }\n",
       "\n",
       "    .dataframe tbody tr th {\n",
       "        vertical-align: top;\n",
       "    }\n",
       "\n",
       "    .dataframe thead th {\n",
       "        text-align: right;\n",
       "    }\n",
       "</style>\n",
       "<table border=\"1\" class=\"dataframe\">\n",
       "  <thead>\n",
       "    <tr style=\"text-align: right;\">\n",
       "      <th></th>\n",
       "      <th>Order_ID</th>\n",
       "      <th>Customer_ID</th>\n",
       "      <th>Order_Date</th>\n",
       "      <th>Order_Status</th>\n",
       "      <th>Total_Amount_USD</th>\n",
       "      <th>Total_Items_Count</th>\n",
       "      <th>Payment_Method</th>\n",
       "      <th>Shipping_Type</th>\n",
       "      <th>Shipping_Cost_USD</th>\n",
       "      <th>Coupon_Code_Used</th>\n",
       "      <th>...</th>\n",
       "      <th>Product_Returns__Apparel_91</th>\n",
       "      <th>Customer_Service_Contact__Apparel_92</th>\n",
       "      <th>Order_Refunded_Flag__Electronics_93</th>\n",
       "      <th>Payment_Transaction_Fee__Regional_94</th>\n",
       "      <th>Customer_Service_Contact__Priority_95</th>\n",
       "      <th>Payment_Transaction_Fee__ReturnsPolicy_96</th>\n",
       "      <th>Order_Refunded_Flag__Priority_97</th>\n",
       "      <th>Warehouse_Location_Code__Electronics_98</th>\n",
       "      <th>Order_Refunded_Flag__Regional_99</th>\n",
       "      <th>Time_to_Payment_Confirmation__Regional_100</th>\n",
       "    </tr>\n",
       "  </thead>\n",
       "  <tbody>\n",
       "    <tr>\n",
       "      <th>0</th>\n",
       "      <td>ORD00000001</td>\n",
       "      <td>CUST015796</td>\n",
       "      <td>2024-12-09 00:04:32</td>\n",
       "      <td>Completed</td>\n",
       "      <td>134.30</td>\n",
       "      <td>4</td>\n",
       "      <td>Credit Card</td>\n",
       "      <td>Economy</td>\n",
       "      <td>4.00</td>\n",
       "      <td>NONE</td>\n",
       "      <td>...</td>\n",
       "      <td>0</td>\n",
       "      <td>0</td>\n",
       "      <td>0</td>\n",
       "      <td>0.0295</td>\n",
       "      <td>0</td>\n",
       "      <td>0.0262</td>\n",
       "      <td>0</td>\n",
       "      <td>1</td>\n",
       "      <td>0</td>\n",
       "      <td>3.0145</td>\n",
       "    </tr>\n",
       "    <tr>\n",
       "      <th>1</th>\n",
       "      <td>ORD00000002</td>\n",
       "      <td>CUST000861</td>\n",
       "      <td>2024-09-04 22:54:57</td>\n",
       "      <td>Shipped</td>\n",
       "      <td>2001.87</td>\n",
       "      <td>2</td>\n",
       "      <td>Digital Wallet</td>\n",
       "      <td>Standard</td>\n",
       "      <td>7.74</td>\n",
       "      <td>FREESHIP</td>\n",
       "      <td>...</td>\n",
       "      <td>0</td>\n",
       "      <td>0</td>\n",
       "      <td>0</td>\n",
       "      <td>0.0208</td>\n",
       "      <td>0</td>\n",
       "      <td>0.0153</td>\n",
       "      <td>0</td>\n",
       "      <td>4</td>\n",
       "      <td>0</td>\n",
       "      <td>0.8283</td>\n",
       "    </tr>\n",
       "    <tr>\n",
       "      <th>2</th>\n",
       "      <td>ORD00000003</td>\n",
       "      <td>CUST076821</td>\n",
       "      <td>2024-11-22 10:26:33</td>\n",
       "      <td>Completed</td>\n",
       "      <td>233.57</td>\n",
       "      <td>1</td>\n",
       "      <td>PayPal</td>\n",
       "      <td>Standard</td>\n",
       "      <td>5.67</td>\n",
       "      <td>NONE</td>\n",
       "      <td>...</td>\n",
       "      <td>0</td>\n",
       "      <td>1</td>\n",
       "      <td>0</td>\n",
       "      <td>0.0092</td>\n",
       "      <td>1</td>\n",
       "      <td>0.0100</td>\n",
       "      <td>0</td>\n",
       "      <td>13</td>\n",
       "      <td>0</td>\n",
       "      <td>3.5616</td>\n",
       "    </tr>\n",
       "    <tr>\n",
       "      <th>3</th>\n",
       "      <td>ORD00000004</td>\n",
       "      <td>CUST054887</td>\n",
       "      <td>2024-06-15 16:11:54</td>\n",
       "      <td>Shipped</td>\n",
       "      <td>300.11</td>\n",
       "      <td>5</td>\n",
       "      <td>PayPal</td>\n",
       "      <td>Express</td>\n",
       "      <td>0.75</td>\n",
       "      <td>NONE</td>\n",
       "      <td>...</td>\n",
       "      <td>0</td>\n",
       "      <td>0</td>\n",
       "      <td>0</td>\n",
       "      <td>0.0278</td>\n",
       "      <td>0</td>\n",
       "      <td>0.0212</td>\n",
       "      <td>0</td>\n",
       "      <td>10</td>\n",
       "      <td>0</td>\n",
       "      <td>2.5930</td>\n",
       "    </tr>\n",
       "    <tr>\n",
       "      <th>4</th>\n",
       "      <td>ORD00000005</td>\n",
       "      <td>CUST006266</td>\n",
       "      <td>2024-05-04 21:55:03</td>\n",
       "      <td>Completed</td>\n",
       "      <td>536.28</td>\n",
       "      <td>3</td>\n",
       "      <td>Credit Card</td>\n",
       "      <td>Express</td>\n",
       "      <td>14.16</td>\n",
       "      <td>NONE</td>\n",
       "      <td>...</td>\n",
       "      <td>0</td>\n",
       "      <td>0</td>\n",
       "      <td>0</td>\n",
       "      <td>0.0161</td>\n",
       "      <td>0</td>\n",
       "      <td>0.0143</td>\n",
       "      <td>0</td>\n",
       "      <td>4</td>\n",
       "      <td>0</td>\n",
       "      <td>2.9948</td>\n",
       "    </tr>\n",
       "  </tbody>\n",
       "</table>\n",
       "<p>5 rows × 115 columns</p>\n",
       "</div>"
      ],
      "text/plain": [
       "      Order_ID Customer_ID           Order_Date Order_Status  \\\n",
       "0  ORD00000001  CUST015796  2024-12-09 00:04:32    Completed   \n",
       "1  ORD00000002  CUST000861  2024-09-04 22:54:57      Shipped   \n",
       "2  ORD00000003  CUST076821  2024-11-22 10:26:33    Completed   \n",
       "3  ORD00000004  CUST054887  2024-06-15 16:11:54      Shipped   \n",
       "4  ORD00000005  CUST006266  2024-05-04 21:55:03    Completed   \n",
       "\n",
       "   Total_Amount_USD  Total_Items_Count  Payment_Method Shipping_Type  \\\n",
       "0            134.30                  4     Credit Card       Economy   \n",
       "1           2001.87                  2  Digital Wallet      Standard   \n",
       "2            233.57                  1          PayPal      Standard   \n",
       "3            300.11                  5          PayPal       Express   \n",
       "4            536.28                  3     Credit Card       Express   \n",
       "\n",
       "   Shipping_Cost_USD Coupon_Code_Used  ...  Product_Returns__Apparel_91  \\\n",
       "0               4.00             NONE  ...                            0   \n",
       "1               7.74         FREESHIP  ...                            0   \n",
       "2               5.67             NONE  ...                            0   \n",
       "3               0.75             NONE  ...                            0   \n",
       "4              14.16             NONE  ...                            0   \n",
       "\n",
       "   Customer_Service_Contact__Apparel_92  Order_Refunded_Flag__Electronics_93  \\\n",
       "0                                     0                                    0   \n",
       "1                                     0                                    0   \n",
       "2                                     1                                    0   \n",
       "3                                     0                                    0   \n",
       "4                                     0                                    0   \n",
       "\n",
       "  Payment_Transaction_Fee__Regional_94  Customer_Service_Contact__Priority_95  \\\n",
       "0                               0.0295                                      0   \n",
       "1                               0.0208                                      0   \n",
       "2                               0.0092                                      1   \n",
       "3                               0.0278                                      0   \n",
       "4                               0.0161                                      0   \n",
       "\n",
       "   Payment_Transaction_Fee__ReturnsPolicy_96  \\\n",
       "0                                     0.0262   \n",
       "1                                     0.0153   \n",
       "2                                     0.0100   \n",
       "3                                     0.0212   \n",
       "4                                     0.0143   \n",
       "\n",
       "   Order_Refunded_Flag__Priority_97  Warehouse_Location_Code__Electronics_98  \\\n",
       "0                                 0                                        1   \n",
       "1                                 0                                        4   \n",
       "2                                 0                                       13   \n",
       "3                                 0                                       10   \n",
       "4                                 0                                        4   \n",
       "\n",
       "   Order_Refunded_Flag__Regional_99  \\\n",
       "0                                 0   \n",
       "1                                 0   \n",
       "2                                 0   \n",
       "3                                 0   \n",
       "4                                 0   \n",
       "\n",
       "   Time_to_Payment_Confirmation__Regional_100  \n",
       "0                                      3.0145  \n",
       "1                                      0.8283  \n",
       "2                                      3.5616  \n",
       "3                                      2.5930  \n",
       "4                                      2.9948  \n",
       "\n",
       "[5 rows x 115 columns]"
      ]
     },
     "execution_count": 4,
     "metadata": {},
     "output_type": "execute_result"
    }
   ],
   "source": [
    "df_1.head()"
   ]
  },
  {
   "cell_type": "code",
   "execution_count": 5,
   "id": "1e04adc2-d72b-4a8a-87c2-4a577d5d653e",
   "metadata": {},
   "outputs": [],
   "source": [
    "#we removed all unnecessary columns\n",
    "columns_to_keep = ['Customer_ID', 'Order_Date', 'Total_Amount_USD']\n",
    "new_df = df[columns_to_keep]"
   ]
  },
  {
   "cell_type": "code",
   "execution_count": 6,
   "id": "e95be16f-1a9a-48ac-9750-c062fbf2f263",
   "metadata": {},
   "outputs": [
    {
     "data": {
      "text/html": [
       "<div>\n",
       "<style scoped>\n",
       "    .dataframe tbody tr th:only-of-type {\n",
       "        vertical-align: middle;\n",
       "    }\n",
       "\n",
       "    .dataframe tbody tr th {\n",
       "        vertical-align: top;\n",
       "    }\n",
       "\n",
       "    .dataframe thead th {\n",
       "        text-align: right;\n",
       "    }\n",
       "</style>\n",
       "<table border=\"1\" class=\"dataframe\">\n",
       "  <thead>\n",
       "    <tr style=\"text-align: right;\">\n",
       "      <th></th>\n",
       "      <th>Customer_ID</th>\n",
       "      <th>Order_Date</th>\n",
       "      <th>Total_Amount_USD</th>\n",
       "    </tr>\n",
       "  </thead>\n",
       "  <tbody>\n",
       "    <tr>\n",
       "      <th>0</th>\n",
       "      <td>CUST015796</td>\n",
       "      <td>2024-12-09 00:04:32</td>\n",
       "      <td>134.30</td>\n",
       "    </tr>\n",
       "    <tr>\n",
       "      <th>1</th>\n",
       "      <td>CUST000861</td>\n",
       "      <td>2024-09-04 22:54:57</td>\n",
       "      <td>2001.87</td>\n",
       "    </tr>\n",
       "    <tr>\n",
       "      <th>2</th>\n",
       "      <td>CUST076821</td>\n",
       "      <td>2024-11-22 10:26:33</td>\n",
       "      <td>233.57</td>\n",
       "    </tr>\n",
       "    <tr>\n",
       "      <th>3</th>\n",
       "      <td>CUST054887</td>\n",
       "      <td>2024-06-15 16:11:54</td>\n",
       "      <td>300.11</td>\n",
       "    </tr>\n",
       "    <tr>\n",
       "      <th>4</th>\n",
       "      <td>CUST006266</td>\n",
       "      <td>2024-05-04 21:55:03</td>\n",
       "      <td>536.28</td>\n",
       "    </tr>\n",
       "  </tbody>\n",
       "</table>\n",
       "</div>"
      ],
      "text/plain": [
       "  Customer_ID           Order_Date  Total_Amount_USD\n",
       "0  CUST015796  2024-12-09 00:04:32            134.30\n",
       "1  CUST000861  2024-09-04 22:54:57           2001.87\n",
       "2  CUST076821  2024-11-22 10:26:33            233.57\n",
       "3  CUST054887  2024-06-15 16:11:54            300.11\n",
       "4  CUST006266  2024-05-04 21:55:03            536.28"
      ]
     },
     "execution_count": 6,
     "metadata": {},
     "output_type": "execute_result"
    }
   ],
   "source": [
    "new_df.head()"
   ]
  },
  {
   "cell_type": "code",
   "execution_count": 7,
   "id": "0875ee94-aa40-46c3-b4bb-ecb0e003091c",
   "metadata": {},
   "outputs": [
    {
     "data": {
      "text/plain": [
       "Customer_ID         0\n",
       "Order_Date          0\n",
       "Total_Amount_USD    0\n",
       "dtype: int64"
      ]
     },
     "execution_count": 7,
     "metadata": {},
     "output_type": "execute_result"
    }
   ],
   "source": [
    "#cheaking null values\n",
    "new_df.isnull().sum()"
   ]
  },
  {
   "cell_type": "code",
   "execution_count": 8,
   "id": "63017371-82c1-42c2-9baf-683c2880fdfa",
   "metadata": {},
   "outputs": [
    {
     "data": {
      "text/plain": [
       "(100000, 3)"
      ]
     },
     "execution_count": 8,
     "metadata": {},
     "output_type": "execute_result"
    }
   ],
   "source": [
    "new_df.shape"
   ]
  },
  {
   "cell_type": "code",
   "execution_count": 9,
   "id": "751f6dec-bfac-4cb5-8743-be77c590145f",
   "metadata": {},
   "outputs": [
    {
     "name": "stdout",
     "output_type": "stream",
     "text": [
      "<class 'pandas.core.frame.DataFrame'>\n",
      "RangeIndex: 100000 entries, 0 to 99999\n",
      "Data columns (total 3 columns):\n",
      " #   Column            Non-Null Count   Dtype  \n",
      "---  ------            --------------   -----  \n",
      " 0   Customer_ID       100000 non-null  object \n",
      " 1   Order_Date        100000 non-null  object \n",
      " 2   Total_Amount_USD  100000 non-null  float64\n",
      "dtypes: float64(1), object(2)\n",
      "memory usage: 2.3+ MB\n"
     ]
    }
   ],
   "source": [
    "new_df.info()"
   ]
  },
  {
   "cell_type": "code",
   "execution_count": 10,
   "id": "5bf9bb94-8ad5-47b7-b7e3-02eb9521f5b4",
   "metadata": {},
   "outputs": [
    {
     "name": "stderr",
     "output_type": "stream",
     "text": [
      "C:\\Users\\mafin\\AppData\\Local\\Temp\\ipykernel_12304\\301475436.py:2: SettingWithCopyWarning: \n",
      "A value is trying to be set on a copy of a slice from a DataFrame.\n",
      "Try using .loc[row_indexer,col_indexer] = value instead\n",
      "\n",
      "See the caveats in the documentation: https://pandas.pydata.org/pandas-docs/stable/user_guide/indexing.html#returning-a-view-versus-a-copy\n",
      "  new_df['Order_Date'] = pd.to_datetime(new_df['Order_Date'])\n"
     ]
    }
   ],
   "source": [
    "#changing Order Date(object) to date time\n",
    "new_df['Order_Date'] = pd.to_datetime(new_df['Order_Date'])"
   ]
  },
  {
   "cell_type": "code",
   "execution_count": 11,
   "id": "355cc1b1-a7dc-4ed3-8ef8-8719749476b0",
   "metadata": {},
   "outputs": [
    {
     "name": "stdout",
     "output_type": "stream",
     "text": [
      "<class 'pandas.core.frame.DataFrame'>\n",
      "RangeIndex: 100000 entries, 0 to 99999\n",
      "Data columns (total 3 columns):\n",
      " #   Column            Non-Null Count   Dtype         \n",
      "---  ------            --------------   -----         \n",
      " 0   Customer_ID       100000 non-null  object        \n",
      " 1   Order_Date        100000 non-null  datetime64[ns]\n",
      " 2   Total_Amount_USD  100000 non-null  float64       \n",
      "dtypes: datetime64[ns](1), float64(1), object(1)\n",
      "memory usage: 2.3+ MB\n"
     ]
    }
   ],
   "source": [
    "new_df.info()"
   ]
  },
  {
   "cell_type": "markdown",
   "id": "9bcae708-d790-4b04-a18b-f5038e76d0c9",
   "metadata": {},
   "source": [
    "# 1. RFM"
   ]
  },
  {
   "cell_type": "code",
   "execution_count": 12,
   "id": "5df5159e-b260-4677-bbdf-fe5aea45e82d",
   "metadata": {},
   "outputs": [
    {
     "name": "stdout",
     "output_type": "stream",
     "text": [
      "RFM DataFrame Head:\n",
      "  Customer_ID  Recency  Frequency  Monetary\n",
      "0  CUST000002      100          1   2472.46\n",
      "1  CUST000003       15          4    536.27\n",
      "2  CUST000006        6          3    484.11\n",
      "3  CUST000007      608          1    623.95\n",
      "4  CUST000008      585          1   1026.06\n"
     ]
    }
   ],
   "source": [
    "# 1. Define the snapshot date for recency calculation\n",
    "snapshot_date = new_df['Order_Date'].max() + dt.timedelta(days=1)\n",
    "\n",
    "# 2. Group by customer and calculate R, F, and M values\n",
    "rfm_df = new_df.groupby('Customer_ID').agg({\n",
    "    'Order_Date': 'count',  # <-- CHANGE THIS LINE to calculate frequency\n",
    "    'Total_Amount_USD': 'sum'\n",
    "}).reset_index()\n",
    "\n",
    "# Calculate Recency separately\n",
    "recency_df = new_df.groupby('Customer_ID')['Order_Date'].max().reset_index()\n",
    "recency_df['Recency'] = (snapshot_date - recency_df['Order_Date']).dt.days\n",
    "\n",
    "# Merge recency with the main rfm_df\n",
    "rfm_df = pd.merge(rfm_df, recency_df[['Customer_ID', 'Recency']], on='Customer_ID')\n",
    "\n",
    "# 3. Rename the columns to Recency, Frequency, and Monetary\n",
    "rfm_df.rename(columns={'Order_Date': 'Frequency',\n",
    "                       'Total_Amount_USD': 'Monetary'}, inplace=True)\n",
    "\n",
    "# Reorder columns for clarity\n",
    "rfm_df = rfm_df[['Customer_ID', 'Recency', 'Frequency', 'Monetary']]\n",
    "\n",
    "# --- Display the Result ---\n",
    "print(\"RFM DataFrame Head:\")\n",
    "print(rfm_df.head())"
   ]
  },
  {
   "cell_type": "code",
   "execution_count": 13,
   "id": "af10f756-17b0-412f-a775-13bd6a50de8c",
   "metadata": {},
   "outputs": [
    {
     "data": {
      "text/plain": [
       "(63217, 4)"
      ]
     },
     "execution_count": 13,
     "metadata": {},
     "output_type": "execute_result"
    }
   ],
   "source": [
    "rfm_df.shape"
   ]
  },
  {
   "cell_type": "code",
   "execution_count": null,
   "id": "accc1da8-b0c5-4752-a959-dfe3ae48ab3d",
   "metadata": {},
   "outputs": [],
   "source": []
  },
  {
   "cell_type": "code",
   "execution_count": 14,
   "id": "34d0d3b3-eb7e-4140-a3bc-4f8fc5fc0ab2",
   "metadata": {},
   "outputs": [
    {
     "data": {
      "text/html": [
       "<div>\n",
       "<style scoped>\n",
       "    .dataframe tbody tr th:only-of-type {\n",
       "        vertical-align: middle;\n",
       "    }\n",
       "\n",
       "    .dataframe tbody tr th {\n",
       "        vertical-align: top;\n",
       "    }\n",
       "\n",
       "    .dataframe thead th {\n",
       "        text-align: right;\n",
       "    }\n",
       "</style>\n",
       "<table border=\"1\" class=\"dataframe\">\n",
       "  <thead>\n",
       "    <tr style=\"text-align: right;\">\n",
       "      <th></th>\n",
       "      <th>Customer_ID</th>\n",
       "      <th>Recency</th>\n",
       "      <th>Frequency</th>\n",
       "      <th>Monetary</th>\n",
       "      <th>Last_Order_Date</th>\n",
       "      <th>Last_Transaction_Amount</th>\n",
       "    </tr>\n",
       "  </thead>\n",
       "  <tbody>\n",
       "    <tr>\n",
       "      <th>0</th>\n",
       "      <td>CUST000002</td>\n",
       "      <td>100</td>\n",
       "      <td>1</td>\n",
       "      <td>2472.46</td>\n",
       "      <td>2025-07-01 15:52:16</td>\n",
       "      <td>2472.46</td>\n",
       "    </tr>\n",
       "    <tr>\n",
       "      <th>1</th>\n",
       "      <td>CUST000003</td>\n",
       "      <td>15</td>\n",
       "      <td>4</td>\n",
       "      <td>536.27</td>\n",
       "      <td>2025-09-25 02:13:59</td>\n",
       "      <td>33.33</td>\n",
       "    </tr>\n",
       "    <tr>\n",
       "      <th>2</th>\n",
       "      <td>CUST000006</td>\n",
       "      <td>6</td>\n",
       "      <td>3</td>\n",
       "      <td>484.11</td>\n",
       "      <td>2025-10-03 12:46:32</td>\n",
       "      <td>24.83</td>\n",
       "    </tr>\n",
       "    <tr>\n",
       "      <th>3</th>\n",
       "      <td>CUST000007</td>\n",
       "      <td>608</td>\n",
       "      <td>1</td>\n",
       "      <td>623.95</td>\n",
       "      <td>2024-02-10 09:15:17</td>\n",
       "      <td>623.95</td>\n",
       "    </tr>\n",
       "    <tr>\n",
       "      <th>4</th>\n",
       "      <td>CUST000008</td>\n",
       "      <td>585</td>\n",
       "      <td>1</td>\n",
       "      <td>1026.06</td>\n",
       "      <td>2024-03-03 21:15:41</td>\n",
       "      <td>1026.06</td>\n",
       "    </tr>\n",
       "  </tbody>\n",
       "</table>\n",
       "</div>"
      ],
      "text/plain": [
       "  Customer_ID  Recency  Frequency  Monetary     Last_Order_Date  \\\n",
       "0  CUST000002      100          1   2472.46 2025-07-01 15:52:16   \n",
       "1  CUST000003       15          4    536.27 2025-09-25 02:13:59   \n",
       "2  CUST000006        6          3    484.11 2025-10-03 12:46:32   \n",
       "3  CUST000007      608          1    623.95 2024-02-10 09:15:17   \n",
       "4  CUST000008      585          1   1026.06 2024-03-03 21:15:41   \n",
       "\n",
       "   Last_Transaction_Amount  \n",
       "0                  2472.46  \n",
       "1                    33.33  \n",
       "2                    24.83  \n",
       "3                   623.95  \n",
       "4                  1026.06  "
      ]
     },
     "execution_count": 14,
     "metadata": {},
     "output_type": "execute_result"
    }
   ],
   "source": [
    "# Get the amount of the most recent transaction for each customer\n",
    "last_transaction_details = new_df.loc[new_df.groupby('Customer_ID')['Order_Date'].idxmax()]\n",
    "\n",
    "# Merge last transaction details with your existing RFM dataframe\n",
    "final_df = pd.merge(\n",
    "    rfm_df,  # from your first code\n",
    "    last_transaction_details[['Customer_ID', 'Order_Date', 'Total_Amount_USD']],\n",
    "    on='Customer_ID',\n",
    "    how='left'\n",
    ")\n",
    "\n",
    "# Rename columns for clarity\n",
    "final_df.rename(columns={'Order_Date': 'Last_Order_Date',\n",
    "                         'Total_Amount_USD': 'Last_Transaction_Amount'}, inplace=True)\n",
    "\n",
    "# Reorder columns if needed\n",
    "final_df = final_df[['Customer_ID', 'Recency', 'Frequency', 'Monetary', 'Last_Order_Date', 'Last_Transaction_Amount']]\n",
    "\n",
    "# Display the final dataframe\n",
    "final_df.head()\n"
   ]
  },
  {
   "cell_type": "code",
   "execution_count": 15,
   "id": "877ae14c-cd4e-4543-86d4-c0f72e318134",
   "metadata": {},
   "outputs": [
    {
     "data": {
      "text/plain": [
       "(63217, 6)"
      ]
     },
     "execution_count": 15,
     "metadata": {},
     "output_type": "execute_result"
    }
   ],
   "source": [
    "final_df.shape"
   ]
  },
  {
   "cell_type": "code",
   "execution_count": 16,
   "id": "930b124f-ec01-4a23-bd64-66ad5d78cbaa",
   "metadata": {},
   "outputs": [
    {
     "name": "stdout",
     "output_type": "stream",
     "text": [
      "     Segment     Recency  Frequency     Monetary\n",
      "1   Champion  107.380055   2.727095  1839.569724\n",
      "3      Loyal  228.019430   1.886641  1016.373002\n",
      "4  Potential  323.759394   1.180417   548.251635\n",
      "0    At-Risk  492.549314   1.006548   197.448382\n",
      "2       Lost  626.133607   1.000000    75.987361\n"
     ]
    }
   ],
   "source": [
    "# RFM Scoring (1–5)\n",
    "rfm_df['R_Score'] = pd.qcut(rfm_df['Recency'], 5, labels=[5,4,3,2,1])  # Lower recency = better\n",
    "rfm_df['F_Score'] = pd.qcut(rfm_df['Frequency'].rank(method='first'), 5, labels=[1,2,3,4,5])\n",
    "rfm_df['M_Score'] = pd.qcut(rfm_df['Monetary'].rank(method='first'), 5, labels=[1,2,3,4,5])\n",
    "\n",
    "# Combine all scores\n",
    "rfm_df['RFM_Score'] = (\n",
    "    rfm_df['R_Score'].astype(int)\n",
    "    + rfm_df['F_Score'].astype(int)\n",
    "    + rfm_df['M_Score'].astype(int)\n",
    ")\n",
    "\n",
    "# Define segmentation logic\n",
    "def segment_customer(score):\n",
    "    if score >= 13:\n",
    "        return 'Champion'\n",
    "    elif score >= 10:\n",
    "        return 'Loyal'\n",
    "    elif score >= 7:\n",
    "        return 'Potential'\n",
    "    elif score >= 4:\n",
    "        return 'At-Risk'\n",
    "    else:\n",
    "        return 'Lost'\n",
    "\n",
    "# Apply segmentation\n",
    "rfm_df['Segment'] = rfm_df['RFM_Score'].apply(segment_customer)\n",
    "\n",
    "# Summarize by segment\n",
    "segment_summary = rfm_df.groupby('Segment')[['Recency', 'Frequency', 'Monetary']].mean().reset_index()\n",
    "\n",
    "# Define the desired order for display\n",
    "order = ['Champion', 'Loyal', 'Potential', 'At-Risk', 'Lost']\n",
    "segment_summary['Segment'] = pd.Categorical(segment_summary['Segment'], categories=order, ordered=True)\n",
    "\n",
    "# Sort by defined order\n",
    "segment_summary = segment_summary.sort_values('Segment')\n",
    "\n",
    "print(segment_summary)\n"
   ]
  },
  {
   "cell_type": "code",
   "execution_count": 17,
   "id": "6a31a458-f7c6-4fab-873c-b95f610e1158",
   "metadata": {},
   "outputs": [
    {
     "data": {
      "image/png": "[encoded data removed]",
      "text/plain": [
       "<Figure size 640x480 with 1 Axes>"
      ]
     },
     "metadata": {},
     "output_type": "display_data"
    }
   ],
   "source": [
    "segment_summary.set_index('Segment')[['Recency','Monetary']].plot(kind='bar')\n",
    "plt.title('Buying Behavior by Customer Segment')\n",
    "plt.ylabel('Average Values')\n",
    "plt.show()"
   ]
  },
  {
   "cell_type": "code",
   "execution_count": 18,
   "id": "c4ee6c83-d79e-4fb5-a6e1-ff024db317a0",
   "metadata": {},
   "outputs": [
    {
     "data": {
      "text/html": [
       "<div>\n",
       "<style scoped>\n",
       "    .dataframe tbody tr th:only-of-type {\n",
       "        vertical-align: middle;\n",
       "    }\n",
       "\n",
       "    .dataframe tbody tr th {\n",
       "        vertical-align: top;\n",
       "    }\n",
       "\n",
       "    .dataframe thead th {\n",
       "        text-align: right;\n",
       "    }\n",
       "</style>\n",
       "<table border=\"1\" class=\"dataframe\">\n",
       "  <thead>\n",
       "    <tr style=\"text-align: right;\">\n",
       "      <th></th>\n",
       "      <th>Customer_ID</th>\n",
       "      <th>Total_Spent</th>\n",
       "      <th>Avg_Order_Value</th>\n",
       "      <th>Total_Orders</th>\n",
       "      <th>First_Purchase</th>\n",
       "      <th>Last_Purchase</th>\n",
       "      <th>Lifespan_Days</th>\n",
       "      <th>CLV</th>\n",
       "    </tr>\n",
       "  </thead>\n",
       "  <tbody>\n",
       "    <tr>\n",
       "      <th>0</th>\n",
       "      <td>CUST000002</td>\n",
       "      <td>2472.46</td>\n",
       "      <td>2472.4600</td>\n",
       "      <td>1</td>\n",
       "      <td>2025-07-01 15:52:16</td>\n",
       "      <td>2025-07-01 15:52:16</td>\n",
       "      <td>1</td>\n",
       "      <td>902447.900000</td>\n",
       "    </tr>\n",
       "    <tr>\n",
       "      <th>1</th>\n",
       "      <td>CUST000003</td>\n",
       "      <td>536.27</td>\n",
       "      <td>134.0675</td>\n",
       "      <td>4</td>\n",
       "      <td>2023-10-21 23:40:33</td>\n",
       "      <td>2025-09-25 02:13:59</td>\n",
       "      <td>704</td>\n",
       "      <td>278.037713</td>\n",
       "    </tr>\n",
       "    <tr>\n",
       "      <th>2</th>\n",
       "      <td>CUST000006</td>\n",
       "      <td>484.11</td>\n",
       "      <td>161.3700</td>\n",
       "      <td>3</td>\n",
       "      <td>2023-12-26 03:44:31</td>\n",
       "      <td>2025-10-03 12:46:32</td>\n",
       "      <td>647</td>\n",
       "      <td>273.106878</td>\n",
       "    </tr>\n",
       "    <tr>\n",
       "      <th>3</th>\n",
       "      <td>CUST000007</td>\n",
       "      <td>623.95</td>\n",
       "      <td>623.9500</td>\n",
       "      <td>1</td>\n",
       "      <td>2024-02-10 09:15:17</td>\n",
       "      <td>2024-02-10 09:15:17</td>\n",
       "      <td>1</td>\n",
       "      <td>227741.750000</td>\n",
       "    </tr>\n",
       "    <tr>\n",
       "      <th>4</th>\n",
       "      <td>CUST000008</td>\n",
       "      <td>1026.06</td>\n",
       "      <td>1026.0600</td>\n",
       "      <td>1</td>\n",
       "      <td>2024-03-03 21:15:41</td>\n",
       "      <td>2024-03-03 21:15:41</td>\n",
       "      <td>1</td>\n",
       "      <td>374511.900000</td>\n",
       "    </tr>\n",
       "  </tbody>\n",
       "</table>\n",
       "</div>"
      ],
      "text/plain": [
       "  Customer_ID  Total_Spent  Avg_Order_Value  Total_Orders      First_Purchase  \\\n",
       "0  CUST000002      2472.46        2472.4600             1 2025-07-01 15:52:16   \n",
       "1  CUST000003       536.27         134.0675             4 2023-10-21 23:40:33   \n",
       "2  CUST000006       484.11         161.3700             3 2023-12-26 03:44:31   \n",
       "3  CUST000007       623.95         623.9500             1 2024-02-10 09:15:17   \n",
       "4  CUST000008      1026.06        1026.0600             1 2024-03-03 21:15:41   \n",
       "\n",
       "        Last_Purchase  Lifespan_Days            CLV  \n",
       "0 2025-07-01 15:52:16              1  902447.900000  \n",
       "1 2025-09-25 02:13:59            704     278.037713  \n",
       "2 2025-10-03 12:46:32            647     273.106878  \n",
       "3 2024-02-10 09:15:17              1  227741.750000  \n",
       "4 2024-03-03 21:15:41              1  374511.900000  "
      ]
     },
     "execution_count": 18,
     "metadata": {},
     "output_type": "execute_result"
    }
   ],
   "source": [
    "# Calculate basic CLV metrics\n",
    "clv_data = new_df.groupby('Customer_ID').agg({\n",
    "    'Total_Amount_USD': ['sum', 'mean', 'count'],\n",
    "    'Order_Date': ['min', 'max']\n",
    "}).reset_index()\n",
    "\n",
    "clv_data.columns = ['Customer_ID', 'Total_Spent', 'Avg_Order_Value', 'Total_Orders', 'First_Purchase', 'Last_Purchase']\n",
    "\n",
    "# Calculate customer lifespan\n",
    "clv_data['Lifespan_Days'] = (pd.to_datetime(clv_data['Last_Purchase']) - \n",
    "                            pd.to_datetime(clv_data['First_Purchase'])).dt.days\n",
    "clv_data['Lifespan_Days'] = clv_data['Lifespan_Days'].replace(0, 1)  # Avoid division by zero\n",
    "\n",
    "# Simple CLV calculation\n",
    "clv_data['CLV'] = (clv_data['Total_Spent'] / clv_data['Lifespan_Days']) * 365  # Annualized\n",
    "\n",
    "# Merge with RFM data\n",
    "customer_analysis = pd.merge(rfm_df, clv_data[['Customer_ID', 'CLV', 'Total_Spent', 'Total_Orders']], \n",
    "                            on='Customer_ID', how='left')\n",
    "\n",
    "clv_data.head()"
   ]
  },
  {
   "cell_type": "code",
   "execution_count": 19,
   "id": "d8d213b8-bb6f-40cd-9ba8-78f4ef7d454f",
   "metadata": {},
   "outputs": [
    {
     "data": {
      "text/plain": [
       "(63217, 8)"
      ]
     },
     "execution_count": 19,
     "metadata": {},
     "output_type": "execute_result"
    }
   ],
   "source": [
    "clv_data.shape"
   ]
  },
  {
   "cell_type": "markdown",
   "id": "54adaa85-3a64-4bf1-a39c-906d059df79f",
   "metadata": {},
   "source": [
    "# Top 10 Customers by CLV"
   ]
  },
  {
   "cell_type": "code",
   "execution_count": 23,
   "id": "42f681cb-9574-4402-a77f-04839f6d1648",
   "metadata": {},
   "outputs": [
    {
     "name": "stderr",
     "output_type": "stream",
     "text": [
      "C:\\Users\\mafin\\AppData\\Local\\Temp\\ipykernel_12304\\115444468.py:4: FutureWarning: \n",
      "\n",
      "Passing `palette` without assigning `hue` is deprecated and will be removed in v0.14.0. Assign the `x` variable to `hue` and set `legend=False` for the same effect.\n",
      "\n",
      "  sns.barplot(data=top_customers, x='Customer_ID', y='CLV', palette='viridis')\n"
     ]
    },
    {
     "data": {
      "image/png": "[encoded data removed]",
      "text/plain": [
       "<Figure size 1000x600 with 1 Axes>"
      ]
     },
     "metadata": {},
     "output_type": "display_data"
    }
   ],
   "source": [
    "top_customers = clv_data.nlargest(10, 'CLV')\n",
    "\n",
    "plt.figure(figsize=(10,6))\n",
    "sns.barplot(data=top_customers, x='Customer_ID', y='CLV', palette='viridis')\n",
    "plt.title('Top 10 Customers by CLV')\n",
    "plt.xticks(rotation=45)\n",
    "plt.show()\n"
   ]
  },
  {
   "cell_type": "code",
   "execution_count": 29,
   "id": "1242424e-2e50-4e88-a70f-07fb984abdd1",
   "metadata": {},
   "outputs": [
    {
     "name": "stdout",
     "output_type": "stream",
     "text": [
      "Churn Definition: A customer is marked as 'Churned' if they have not made a purchase in over 180 days.\n",
      "\\n--- Average RFM Metrics for Active vs. Churned Customers ---\\n\n",
      "  Churn    Recency  Frequency   Monetary\n",
      " Active  86.795157   1.877537 955.695821\n",
      "Churned 421.851939   1.427522 713.516270\n"
     ]
    }
   ],
   "source": [
    "# Define the churn threshold in days (e.g., 6 months = ~180 days)\n",
    "churn_threshold_days = 180\n",
    "\n",
    "# Create a 'Churn' column. 1 if churned, 0 if active.\n",
    "# A customer is considered churned if their last purchase was more than the threshold number of days ago.\n",
    "rfm_df['Churn'] = rfm_df['Recency'].apply(lambda x: 1 if x > churn_threshold_days else 0)\n",
    "\n",
    "# Analyze the average RFM values for churned vs. active customers\n",
    "churn_analysis = rfm_df.groupby('Churn')[['Recency', 'Frequency', 'Monetary']].mean().reset_index()\n",
    "\n",
    "# To make the output clearer, let's rename the Churn values to descriptive labels\n",
    "churn_analysis['Churn'] = churn_analysis['Churn'].map({0: 'Active', 1: 'Churned'})\n",
    "\n",
    "print(f\"Churn Definition: A customer is marked as 'Churned' if they have not made a purchase in over {churn_threshold_days} days.\")\n",
    "print(\"\\\\n--- Average RFM Metrics for Active vs. Churned Customers ---\\\\n\")\n",
    "print(churn_analysis.to_string(index=False))\n"
   ]
  },
  {
   "cell_type": "code",
   "execution_count": null,
   "id": "ddd99da4-1d3a-4f8e-90da-937481e5f89d",
   "metadata": {},
   "outputs": [],
   "source": []
  },
  {
   "cell_type": "code",
   "execution_count": null,
   "id": "a4d673c2-113d-4d6b-827e-3a889c54ede6",
   "metadata": {},
   "outputs": [],
   "source": []
  },
  {
   "cell_type": "code",
   "execution_count": null,
   "id": "7a77bf88-168b-4194-bb4d-b3fd75c28fea",
   "metadata": {},
   "outputs": [],
   "source": []
  },
  {
   "cell_type": "code",
   "execution_count": null,
   "id": "33ebc324-8178-4754-903d-b795d4d351a4",
   "metadata": {},
   "outputs": [],
   "source": []
  }
 ],
 "metadata": {
  "kernelspec": {
   "display_name": "Python [conda env:base] *",
   "language": "python",
   "name": "conda-base-py"
  },
  "language_info": {
   "codemirror_mode": {
    "name": "ipython",
    "version": 3
   },
   "file_extension": ".py",
   "mimetype": "text/x-python",
   "name": "python",
   "nbconvert_exporter": "python",
   "pygments_lexer": "ipython3",
   "version": "3.13.5"
  }
 },
 "nbformat": 4,
 "nbformat_minor": 5
}
